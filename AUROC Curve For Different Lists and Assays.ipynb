{
 "cells": [
  {
   "cell_type": "code",
   "execution_count": 304,
   "id": "c27697ea-aac4-440c-a309-bc8ad5a69e83",
   "metadata": {},
   "outputs": [],
   "source": [
    "import pandas as pd\n",
    "import numpy as np\n",
    "import os\n",
    "import matplotlib.pyplot as plt\n",
    "import mpl_toolkits.mplot3d\n",
    "import numpy as np\n",
    "import shap\n",
    "import xgboost\n",
    "from rdkit import Chem\n",
    "from rdkit.Chem import MACCSkeys\n",
    "from rdkit.Chem import PandasTools\n",
    "from rdkit import DataStructs\n",
    "from rdkit import RDConfig\n",
    "from sklearn.cluster import DBSCAN\n",
    "from sklearn import decomposition\n",
    "from sklearn import datasets \n",
    "from sklearn.datasets import make_regression\n",
    "from sklearn.svm import SVC\n",
    "from sklearn.metrics import accuracy_score\n",
    "from sklearn.metrics import balanced_accuracy_score\n",
    "\n",
    "#Support_Vector_Machine \n",
    "from sklearn.svm import LinearSVC\n",
    "from sklearn.pipeline import make_pipeline \n",
    "from sklearn.preprocessing import StandardScaler\n",
    "from sklearn.ensemble import RandomForestClassifier \n",
    "from sklearn.ensemble import AdaBoostClassifier, RandomForestClassifier \n",
    "from sklearn.naive_bayes import CategoricalNB\n",
    "from sklearn.model_selection import train_test_split\n",
    "from xgboost import XGBClassifier\n",
    "\n",
    "import comptox_ai\n",
    "import pandas as pd\n",
    "from comptox_ai.db import GraphDB"
   ]
  },
  {
   "cell_type": "code",
   "execution_count": 305,
   "id": "7900ba80-1cfd-49a6-8c60-62f810f985d6",
   "metadata": {},
   "outputs": [],
   "source": [
    "db = GraphDB(hostname=\"neo4j.comptox.ai\")\n",
    "def make_qsar_dataset(chemical_list, assay_abbreviation):\n",
    "    querystr = \"\"\"\n",
    "    MATCH (cl:ChemicalList {{ listAcronym: \"{0}\" }})-[r1:LISTINCLUDESCHEMICAL]->(c:Chemical)-[r2]->(a:Assay {{ commonName: \"{1}\" }})\n",
    "    RETURN\n",
    "        c.commonName AS chemical,\n",
    "        c.sMILES AS smiles,\n",
    "        c.maccs AS maccs,\n",
    "        CASE TYPE(r2)\n",
    "          WHEN 'CHEMICALHASINACTIVEASSAY' THEN 0\n",
    "          WHEN 'CHEMICALHASACTIVEASSAY' THEN 1\n",
    "          ELSE 2\n",
    "        END as active;\n",
    "    \"\"\"\n",
    "    res = db.run_cypher(querystr.format(chemical_list, assay_abbreviation))\n",
    "    print(\"INFO: Number of chemicals in dataset:\", len(res))\n",
    "    if len(res) < 500:\n",
    "        print(\"This might not be enough chemicals to train a model - you should consider generating a different dataset instead.\")\n",
    "    print()\n",
    "\n",
    "    dset = pd.DataFrame(res)\n",
    "\n",
    "    return dset[dset['maccs'].notna()]"
   ]
  },
  {
   "cell_type": "markdown",
   "id": "5843645d-9e76-49b8-832e-ce09a66dbaf3",
   "metadata": {},
   "source": [
    "# Endocrine Disrupting Chemicals w/ Estrogen Receptor Beta "
   ]
  },
  {
   "cell_type": "code",
   "execution_count": 306,
   "id": "4515eb33-8a2e-4829-adc5-a43a90ce67d1",
   "metadata": {},
   "outputs": [
    {
     "name": "stdout",
     "output_type": "stream",
     "text": [
      "(3121, 166)\n",
      "(781, 166)\n",
      "(3121,)\n",
      "(781,)\n",
      "(2808, 166)\n",
      "(781, 166)\n",
      "(313, 166)\n"
     ]
    },
    {
     "data": {
      "text/plain": [
       "0.7517331568664525"
      ]
     },
     "execution_count": 306,
     "metadata": {},
     "output_type": "execute_result"
    }
   ],
   "source": [
    "#Dataset\n",
    "chemicals = pd.read_csv(\"endocrine_dataset_with_namess.csv\")\n",
    "smiles_map = pd.read_csv(\"endocrine_chemicals (2).csv\")\n",
    "chemicals_with_smiles = chemicals.merge(right=smiles_map, how='left', left_on='preferredName', right_on='commonName')\n",
    "#Converting MACCS Keys into X\n",
    "col1 = chemicals['maccs']\n",
    "col1\n",
    "chemicals_data_as_integers = []\n",
    "for row in col1:\n",
    "    try:\n",
    "        row_as_integers = [int(bit) for bit in str(row)]\n",
    "        chemicals_data_as_integers.append(row_as_integers)\n",
    "    except:\n",
    "        pass    \n",
    "X1 =np.array(chemicals_data_as_integers, dtype=int)\n",
    "y1 = chemicals.y.to_numpy()\n",
    "# Test/Train Split 1\n",
    "X_train1, X_test1, y_train1, y_test1 = train_test_split(X1, y1, test_size=0.2, stratify=y1)\n",
    "print(X_train1.shape)\n",
    "print(X_test1.shape)\n",
    "print(y_train1.shape)\n",
    "print(y_test1.shape)\n",
    "#Validation\n",
    "X_train1, X_valid1, y_train1, y_valid1 = train_test_split(X_train1, y_train1, train_size=0.9)\n",
    "print(X_train1.shape)\n",
    "print(X_test1.shape)\n",
    "print(X_valid1.shape)\n",
    "#algorithm \n",
    "model_CNB1 = CategoricalNB()\n",
    "model_CNB.fit(X_train1, y_train1)\n",
    "CNB_y_pred1 = model_CNB.predict(X_test1)\n",
    "CNB_accuracy1 = balanced_accuracy_score(y_test1, CNB_y_pred1)\n",
    "CNB_accuracy1"
   ]
  },
  {
   "cell_type": "markdown",
   "id": "a52919e3-3ff2-4597-a677-26e3342169a0",
   "metadata": {},
   "source": [
    "# Hazardous Substances with Kidney Assay "
   ]
  },
  {
   "cell_type": "code",
   "execution_count": 307,
   "id": "be90dce7-1b85-4825-8326-3603621e7bb2",
   "metadata": {},
   "outputs": [
    {
     "name": "stdout",
     "output_type": "stream",
     "text": [
      "INFO: Number of chemicals in dataset: 2363\n",
      "\n",
      "(1886, 166)\n",
      "(472, 166)\n",
      "(1886,)\n",
      "(472,)\n",
      "(1697, 166)\n",
      "(472, 166)\n",
      "(189, 166)\n"
     ]
    },
    {
     "data": {
      "text/plain": [
       "0.713633257812781"
      ]
     },
     "execution_count": 307,
     "metadata": {},
     "output_type": "execute_result"
    }
   ],
   "source": [
    "#Dataset\n",
    "Hazardous_dataset = make_qsar_dataset(\"HSDB2019\", \"tox21-pr-bla-antagonist-p1\") #Kidneys\n",
    "# Converting MACCS Keys into X\n",
    "col2 = Hazardous_dataset['maccs']\n",
    "X2 = list(Hazardous_dataset['maccs'])\n",
    "X_transformed2 = []\n",
    "for xx in X:\n",
    "    X_transformed2.append([int(xxx) for xxx in xx])\n",
    "Hazardous_dataset_as_integers = []\n",
    "for row in col2:\n",
    "    try:\n",
    "        row_as_integers = [int(bit) for bit in str(row)]\n",
    "        Hazardous_dataset_as_integers.append(row_as_integers)\n",
    "    except:\n",
    "        pass\n",
    "    \n",
    "X2 =np.array(Hazardous_dataset_as_integers, dtype=int)\n",
    "y1 = Hazardous_dataset.active\n",
    "#Test/Train Split \n",
    "X_train2, X_test2, y_train2, y_test2 = train_test_split(X2, y2, test_size=0.2, stratify=y2)\n",
    "print(X_train2.shape)\n",
    "print(X_test2.shape)\n",
    "print(y_train2.shape)\n",
    "print(y_test2.shape)\n",
    "#Validation\n",
    "X_train2, X_valid2, y_train2, y_valid2 = train_test_split(X_train2, y_train2, train_size=0.9)\n",
    "print(X_train2.shape)\n",
    "print(X_test2.shape)\n",
    "print(X_valid2.shape)\n",
    "#Algorithm \n",
    "model_CNB2 = CategoricalNB()  #CNB had the highest balanced accuracy score \n",
    "model_CNB2.fit(X_train2, y_train2)\n",
    "CNB_y_pred2 = model_CNB2.predict(X_test2)\n",
    "CNB_accuracy2 = balanced_accuracy_score(y_test2, CNB_y_pred2)\n",
    "CNB_accuracy2"
   ]
  },
  {
   "cell_type": "markdown",
   "id": "92b40973-a692-4f8a-ac7b-637f163576c7",
   "metadata": {},
   "source": [
    "# *Hazardous Substances with Colon Cancer Assay "
   ]
  },
  {
   "cell_type": "code",
   "execution_count": 308,
   "id": "d8b92ec8-2a80-4026-84b7-7c4da3b9a418",
   "metadata": {},
   "outputs": [
    {
     "name": "stdout",
     "output_type": "stream",
     "text": [
      "INFO: Number of chemicals in dataset: 2503\n",
      "\n",
      "(1998, 166)\n",
      "(500, 166)\n",
      "(1998,)\n",
      "(500,)\n",
      "(1798, 166)\n",
      "(500, 166)\n",
      "(200, 166)\n"
     ]
    },
    {
     "data": {
      "text/plain": [
       "0.6560105363984674"
      ]
     },
     "execution_count": 308,
     "metadata": {},
     "output_type": "execute_result"
    }
   ],
   "source": [
    "#Dataset \n",
    "Hazardous_dataset2 = make_qsar_dataset(\"HSDB2019\", \"tox21-p53-bla-p1\") #colon cancer \n",
    "# Converting MACCS Keys into X\n",
    "col3 = Hazardous_dataset2['maccs']\n",
    "X3 = list(Hazardous_dataset2['maccs'])\n",
    "X_transformed3 = []\n",
    "for xx in X3:\n",
    "    X_transformed3.append([int(xxx) for xxx in xx])\n",
    "Hazardous_dataset2_as_integers = []\n",
    "for row in col3:\n",
    "    try:\n",
    "        row_as_integers = [int(bit) for bit in str(row)]\n",
    "        Hazardous_dataset2_as_integers.append(row_as_integers)\n",
    "    except:\n",
    "        pass\n",
    "    \n",
    "X3 =np.array(Hazardous_dataset2_as_integers, dtype=int)\n",
    "y3= Hazardous_dataset2.active\n",
    "#Test/Train Split \n",
    "X_train3, X_test3, y_train3, y_test3 = train_test_split(X3, y3, test_size=0.2, stratify=y3)\n",
    "print(X_train3.shape)\n",
    "print(X_test3.shape)\n",
    "print(y_train3.shape)\n",
    "print(y_test3.shape)\n",
    "#Validation\n",
    "X_train3, X_valid3, y_train3, y_valid3 = train_test_split(X_train3, y_train3, train_size=0.9)\n",
    "print(X_train3.shape)\n",
    "print(X_test3.shape)\n",
    "print(X_valid3.shape)\n",
    "#Algorithm\n",
    "model_CNB3 = CategoricalNB()  #highest balanced accuracy score \n",
    "model_CNB3.fit(X_train3, y_train3)\n",
    "CNB_y_pred3 = model_CNB3.predict(X_test3)\n",
    "CNB_accuracy3 = balanced_accuracy_score(y_test3, CNB_y_pred3)\n",
    "CNB_accuracy3"
   ]
  },
  {
   "cell_type": "markdown",
   "id": "122ce7e6-31ae-4aa0-b9d4-0bb885695d40",
   "metadata": {},
   "source": [
    "# *Food Contact Chemicals with liver assay"
   ]
  },
  {
   "cell_type": "code",
   "execution_count": 309,
   "id": "2c3bdea9-cd1b-48bb-a52f-f30d52723e92",
   "metadata": {},
   "outputs": [
    {
     "name": "stdout",
     "output_type": "stream",
     "text": [
      "INFO: Number of chemicals in dataset: 1605\n",
      "\n",
      "(1284, 166)\n",
      "(321, 166)\n",
      "(1284,)\n",
      "(321,)\n",
      "(1155, 166)\n",
      "(321, 166)\n",
      "(129, 166)\n"
     ]
    },
    {
     "data": {
      "text/plain": [
       "0.6497790404040404"
      ]
     },
     "execution_count": 309,
     "metadata": {},
     "output_type": "execute_result"
    }
   ],
   "source": [
    "#Dataset\n",
    "Lfood_dataset = make_qsar_dataset(\"FOODCONTACTSDB\", \"tox21-are-bla-p1\") # liver\n",
    "# Converting MACCS Keys into X\n",
    "col4 = Lfood_dataset['maccs']\n",
    "X4 = list(Lfood_dataset['maccs'])\n",
    "X_transformed4 = []\n",
    "for xx in X4:\n",
    "    X_transformed4.append([int(xxx) for xxx in xx])\n",
    "Lfood_dataset_as_integers = []\n",
    "for row in col4:\n",
    "    try:\n",
    "        row_as_integers = [int(bit) for bit in str(row)]\n",
    "        Lfood_dataset_as_integers.append(row_as_integers)\n",
    "    except:\n",
    "        pass\n",
    "    \n",
    "X4 =np.array(Lfood_dataset_as_integers, dtype=int)\n",
    "y4 = Lfood_dataset.active\n",
    "#Test/Train Split \n",
    "X_train4, X_test4, y_train4, y_test4 = train_test_split(X4, y4, test_size=0.2, stratify=y4)\n",
    "print(X_train4.shape)\n",
    "print(X_test4.shape)\n",
    "print(y_train4.shape)\n",
    "print(y_test4.shape)\n",
    "#Validation\n",
    "X_train4, X_valid4, y_train4, y_valid4 = train_test_split(X_train4, y_train4, train_size=0.9)\n",
    "print(X_train4.shape)\n",
    "print(X_test4.shape)\n",
    "print(X_valid4.shape)\n",
    "#Algorithm \n",
    "model = RandomForestClassifier(n_estimators=150,max_depth=20,criterion=\"entropy\") # highest balanced accuracy score \n",
    "model.fit(X_train4, y_train4)\n",
    "RFC_y_pred = model.predict(X_test4)\n",
    "RF_accuracy = balanced_accuracy_score(y_test4, RFC_y_pred)\n",
    "RF_accuracy"
   ]
  },
  {
   "cell_type": "markdown",
   "id": "6f901870-6c6c-437c-9447-6b1ae8721f15",
   "metadata": {},
   "source": [
    "# *Skin and Eyes Irritants"
   ]
  },
  {
   "cell_type": "code",
   "execution_count": 310,
   "id": "0ac0b1ad-b3e8-4ce5-9ef6-cc47d0cf4917",
   "metadata": {},
   "outputs": [
    {
     "name": "stdout",
     "output_type": "stream",
     "text": [
      "INFO: Number of chemicals in dataset: 2942\n",
      "\n",
      "(2349, 166)\n",
      "(588, 166)\n",
      "(2349,)\n",
      "(588,)\n",
      "(2114, 166)\n",
      "(588, 166)\n",
      "(235, 166)\n"
     ]
    },
    {
     "data": {
      "text/plain": [
       "0.7731822296616394"
      ]
     },
     "execution_count": 310,
     "metadata": {},
     "output_type": "execute_result"
    }
   ],
   "source": [
    "# Dataset\n",
    "dataset = make_qsar_dataset(\"GHSEYESKIN\", \"tox21-pxr-p1\") #Liver\n",
    "# Converting MACCS Keys into X\n",
    "col5 = dataset['maccs']\n",
    "X5 = list(dataset['maccs'])\n",
    "X_transformed5 = []\n",
    "for xx in X5:\n",
    "    X_transformed5.append([int(xxx) for xxx in xx])\n",
    "dataset_data_as_integers = []\n",
    "for row in col5:\n",
    "    try:\n",
    "        row_as_integers = [int(bit) for bit in str(row)]\n",
    "        dataset_data_as_integers.append(row_as_integers)\n",
    "    except:\n",
    "        pass\n",
    "    \n",
    "X5 =np.array(dataset_data_as_integers, dtype=int)\n",
    "y5 = dataset.active\n",
    "#Test/Train Split \n",
    "X_train5, X_test5, y_train5, y_test5 = train_test_split(X5, y5, test_size=0.2, stratify=y5)\n",
    "print(X_train5.shape)\n",
    "print(X_test5.shape)\n",
    "print(y_train5.shape)\n",
    "print(y_test5.shape)\n",
    "#Validation\n",
    "X_train5, X_valid5, y_train5, y_valid5 = train_test_split(X_train5, y_train5, train_size=0.9)\n",
    "print(X_train5.shape)\n",
    "print(X_test5.shape)\n",
    "print(X_valid5.shape)\n",
    "# Algorithm \n",
    "model_XGB = XGBClassifier(n_estimators=150,max_depth=20) # highest balanced accuracy score \n",
    "model.fit(X_train5, y_train5)\n",
    "XGB_y_pred5 = model.predict(X_test5)\n",
    "XGBoost_accuracy = balanced_accuracy_score(y_test5, XGB_y_pred5)\n",
    "XGBoost_accuracy"
   ]
  },
  {
   "cell_type": "code",
   "execution_count": 297,
   "id": "a8f9842e-d607-43d6-b7f6-a9c38b53aa3c",
   "metadata": {},
   "outputs": [],
   "source": [
    "X5 = list(dataset['maccs'])\n",
    "X_transformed5 = []\n",
    "for xx in X5:\n",
    "    X_transformed5.append([int(xxx) for xxx in xx])"
   ]
  },
  {
   "cell_type": "code",
   "execution_count": 208,
   "id": "2eeef107-ddaf-4561-a415-8aaaa439090b",
   "metadata": {},
   "outputs": [
    {
     "data": {
      "text/html": [
       "<div>\n",
       "<style scoped>\n",
       "    .dataframe tbody tr th:only-of-type {\n",
       "        vertical-align: middle;\n",
       "    }\n",
       "\n",
       "    .dataframe tbody tr th {\n",
       "        vertical-align: top;\n",
       "    }\n",
       "\n",
       "    .dataframe thead th {\n",
       "        text-align: right;\n",
       "    }\n",
       "</style>\n",
       "<table border=\"1\" class=\"dataframe\">\n",
       "  <thead>\n",
       "    <tr style=\"text-align: right;\">\n",
       "      <th></th>\n",
       "      <th>chemical</th>\n",
       "      <th>smiles</th>\n",
       "      <th>maccs</th>\n",
       "      <th>active</th>\n",
       "    </tr>\n",
       "  </thead>\n",
       "  <tbody>\n",
       "    <tr>\n",
       "      <th>0</th>\n",
       "      <td>o-Phenolsulfonic acid</td>\n",
       "      <td>OC1=CC=CC=C1S(O)(=O)=O</td>\n",
       "      <td>0000000000000000000000000000000000000011000000...</td>\n",
       "      <td>0</td>\n",
       "    </tr>\n",
       "    <tr>\n",
       "      <th>1</th>\n",
       "      <td>Acetaminophen</td>\n",
       "      <td>CC(=O)NC1=CC=C(O)C=C1</td>\n",
       "      <td>0000000000000000000000000000000000000000000000...</td>\n",
       "      <td>0</td>\n",
       "    </tr>\n",
       "    <tr>\n",
       "      <th>2</th>\n",
       "      <td>Acrylonitrile</td>\n",
       "      <td>C=CC#N</td>\n",
       "      <td>0000000000000000000000000000000001000000100000...</td>\n",
       "      <td>0</td>\n",
       "    </tr>\n",
       "    <tr>\n",
       "      <th>3</th>\n",
       "      <td>Acrolein</td>\n",
       "      <td>C=CC=O</td>\n",
       "      <td>0000000000000000000000000000000001000000000000...</td>\n",
       "      <td>0</td>\n",
       "    </tr>\n",
       "    <tr>\n",
       "      <th>4</th>\n",
       "      <td>2-Amino-4-nitrophenol</td>\n",
       "      <td>NC1=C(O)C=CC(=C1)[N+]([O-])=O</td>\n",
       "      <td>0000000000000000000000010000000000000000000000...</td>\n",
       "      <td>0</td>\n",
       "    </tr>\n",
       "    <tr>\n",
       "      <th>...</th>\n",
       "      <td>...</td>\n",
       "      <td>...</td>\n",
       "      <td>...</td>\n",
       "      <td>...</td>\n",
       "    </tr>\n",
       "    <tr>\n",
       "      <th>2937</th>\n",
       "      <td>Chlorexolone</td>\n",
       "      <td>NS(=O)(=O)C1=CC2=C(CN(C3CCCCC3)C2=O)C=C1Cl</td>\n",
       "      <td>0000000000000000000000000000000110000000000000...</td>\n",
       "      <td>1</td>\n",
       "    </tr>\n",
       "    <tr>\n",
       "      <th>2938</th>\n",
       "      <td>Normethadone</td>\n",
       "      <td>CCC(=O)C(CCN(C)C)(C1=CC=CC=C1)C1=CC=CC=C1</td>\n",
       "      <td>0000000000000000000000000000000000000000000000...</td>\n",
       "      <td>1</td>\n",
       "    </tr>\n",
       "    <tr>\n",
       "      <th>2939</th>\n",
       "      <td>4'-Tert-butyl-4-chlorobutyrophenone</td>\n",
       "      <td>CC(C)(C)C1=CC=C(C=C1)C(=O)CCCCl</td>\n",
       "      <td>0000000000000000000000000000000000000000000000...</td>\n",
       "      <td>1</td>\n",
       "    </tr>\n",
       "    <tr>\n",
       "      <th>2940</th>\n",
       "      <td>Fenbutrazate</td>\n",
       "      <td>CCC(C(=O)OCCN1CCOC(C1C)C1=CC=CC=C1)C1=CC=CC=C1</td>\n",
       "      <td>0000000000000000000000000000000000000000000000...</td>\n",
       "      <td>1</td>\n",
       "    </tr>\n",
       "    <tr>\n",
       "      <th>2941</th>\n",
       "      <td>2-[(Nonyloxy)methyl]oxirane</td>\n",
       "      <td>CCCCCCCCCOCC1CO1</td>\n",
       "      <td>0000000000000001000001000000000000000000000000...</td>\n",
       "      <td>1</td>\n",
       "    </tr>\n",
       "  </tbody>\n",
       "</table>\n",
       "<p>2937 rows × 4 columns</p>\n",
       "</div>"
      ],
      "text/plain": [
       "                                 chemical  \\\n",
       "0                   o-Phenolsulfonic acid   \n",
       "1                           Acetaminophen   \n",
       "2                           Acrylonitrile   \n",
       "3                                Acrolein   \n",
       "4                   2-Amino-4-nitrophenol   \n",
       "...                                   ...   \n",
       "2937                         Chlorexolone   \n",
       "2938                         Normethadone   \n",
       "2939  4'-Tert-butyl-4-chlorobutyrophenone   \n",
       "2940                         Fenbutrazate   \n",
       "2941          2-[(Nonyloxy)methyl]oxirane   \n",
       "\n",
       "                                              smiles  \\\n",
       "0                             OC1=CC=CC=C1S(O)(=O)=O   \n",
       "1                              CC(=O)NC1=CC=C(O)C=C1   \n",
       "2                                             C=CC#N   \n",
       "3                                             C=CC=O   \n",
       "4                      NC1=C(O)C=CC(=C1)[N+]([O-])=O   \n",
       "...                                              ...   \n",
       "2937      NS(=O)(=O)C1=CC2=C(CN(C3CCCCC3)C2=O)C=C1Cl   \n",
       "2938       CCC(=O)C(CCN(C)C)(C1=CC=CC=C1)C1=CC=CC=C1   \n",
       "2939                 CC(C)(C)C1=CC=C(C=C1)C(=O)CCCCl   \n",
       "2940  CCC(C(=O)OCCN1CCOC(C1C)C1=CC=CC=C1)C1=CC=CC=C1   \n",
       "2941                                CCCCCCCCCOCC1CO1   \n",
       "\n",
       "                                                  maccs  active  \n",
       "0     0000000000000000000000000000000000000011000000...       0  \n",
       "1     0000000000000000000000000000000000000000000000...       0  \n",
       "2     0000000000000000000000000000000001000000100000...       0  \n",
       "3     0000000000000000000000000000000001000000000000...       0  \n",
       "4     0000000000000000000000010000000000000000000000...       0  \n",
       "...                                                 ...     ...  \n",
       "2937  0000000000000000000000000000000110000000000000...       1  \n",
       "2938  0000000000000000000000000000000000000000000000...       1  \n",
       "2939  0000000000000000000000000000000000000000000000...       1  \n",
       "2940  0000000000000000000000000000000000000000000000...       1  \n",
       "2941  0000000000000001000001000000000000000000000000...       1  \n",
       "\n",
       "[2937 rows x 4 columns]"
      ]
     },
     "execution_count": 208,
     "metadata": {},
     "output_type": "execute_result"
    }
   ],
   "source": [
    "dataset[dataset['maccs'].notna()]"
   ]
  },
  {
   "cell_type": "code",
   "execution_count": 209,
   "id": "50b1f269-1f7b-458c-81de-53fb46ceb70b",
   "metadata": {},
   "outputs": [
    {
     "data": {
      "text/plain": [
       "array([[0, 0, 0, ..., 1, 1, 0],\n",
       "       [0, 0, 0, ..., 1, 1, 0],\n",
       "       [0, 0, 0, ..., 0, 0, 0],\n",
       "       ...,\n",
       "       [0, 0, 0, ..., 1, 1, 0],\n",
       "       [0, 0, 0, ..., 1, 1, 0],\n",
       "       [0, 0, 0, ..., 1, 1, 0]])"
      ]
     },
     "execution_count": 209,
     "metadata": {},
     "output_type": "execute_result"
    }
   ],
   "source": [
    "dataset_data_as_integers = []\n",
    "for row in col5:\n",
    "    try:\n",
    "        row_as_integers = [int(bit) for bit in str(row)]\n",
    "        dataset_data_as_integers.append(row_as_integers)\n",
    "    except:\n",
    "        pass\n",
    "    \n",
    "X5 =np.array(dataset_data_as_integers, dtype=int)\n",
    "\n",
    "X5"
   ]
  },
  {
   "cell_type": "code",
   "execution_count": 210,
   "id": "b931ba5d-98c9-4012-9b1e-0645aafbf1d0",
   "metadata": {},
   "outputs": [],
   "source": [
    "y5 = dataset.active"
   ]
  },
  {
   "cell_type": "markdown",
   "id": "117844f1-1430-4d0a-961c-1f385136726c",
   "metadata": {},
   "source": [
    "# Feature Names"
   ]
  },
  {
   "cell_type": "code",
   "execution_count": 314,
   "id": "c2070be9-e1f5-415c-8e11-12b46b5676ca",
   "metadata": {},
   "outputs": [
    {
     "name": "stdout",
     "output_type": "stream",
     "text": [
      "['ISOTOPE', 'atomic number > 103', 'Group IVa,Va,VIa Rows 4-6', 'actinide', 'Group IIIB,IVB (Sc...)', 'Lanthanide', 'Group VB,VIB,VIIB', 'QAAA@1', 'Group VIII (Fe...)', 'Group IIa (Alkaline earth)', '4M Ring', 'Group IB,IIB (Cu..)', 'ON(C)C', 'S-S', 'OC(O)O', 'QAA@1', 'CTC', 'Group IIIA (B...)', '7M Ring', 'Si', 'C=C(Q)Q', '3M Ring', 'NC(O)O', 'N-O', 'NC(N)N', 'C$=C($A)$A', 'I', 'QCH2Q', 'P', 'CQ(C)(C)A', 'QX', 'CSN', 'NS', 'CH2=A', 'Group IA (Alkali Metal)', 'S Heterocycle', 'NC(O)N', 'NC(C)N', 'OS(O)O', 'S-O', 'CTN', 'F', 'QHAQH', 'OTHER', 'C=CN', 'BR', 'SAN', 'OQ(O)O', 'CHARGE', 'C=C(C)C', 'CSO', 'NN', 'QHAAAQH', 'QHAAQH', 'OSO', 'ON(O)C', 'O Heterocycle', 'QSQ', 'Snot%A%A', 'S=O', 'AS(A)A', 'A$!A$A', 'N=O', 'A$A!S', 'C%N', 'CC(C)(C)A', 'QS', 'QHQH (&...)', 'QQH', 'QNQ', 'NO', 'OAAO', 'S=A', 'CH3ACH3', 'A!N$A', 'C=C(A)A', 'NAN', 'C=N', 'NAAN', 'NAAAN', 'SA(A)A', 'ACH2QH', 'QAAAA@1', 'NH2', 'CN(C)C', 'CH2QCH2', 'X!A$A', 'S', 'OAAAO', 'QHAACH2A', 'QHAAACH2A', 'OC(N)C', 'QCH3', 'QN', 'NAAO', '5 M ring', 'NAAAO', 'QAAAAA@1', 'C=C', 'ACH2N', 'Ring size between 8 and 14', 'QO', 'CL', 'QHACH2A', 'A$A($A)$A', 'QA(Q)Q', 'XA(A)A', 'CH3AAACH2A', 'ACH2O', 'NCO', 'NACH2A', 'AA(A)(A)A', 'Onot%A%A', 'CH3CH2A', 'CH3ACH2A', 'CH3AACH2A', 'NAO', 'ACH2CH2A > 1', 'N=A', 'Heterocyclic atom > 1', 'N Heterocycle', 'AN(A)A', 'OCO', 'QQ', 'Aromatic Ring > 1', 'A!O!A', 'A$A!O > 1', 'ACH2AAACH2A', 'ACH2AACH2A', 'QQ > 1', 'QH > 1', 'OACH2A,', 'A$A!N', 'X (HALOGEN)', 'Nnot%A%A', 'O=A>1,', 'Heterocycle', 'QCH2A>1', 'OH', 'O > 3', 'CH3 > 2', 'N > 1', 'A$A!O', 'Anot%A%Anot%A', '6M ring > 1', 'O > 2', 'ACH2CH2A', 'AQ(A)A', 'CH3 > 1', 'A!A$A!A', 'NH', 'OC(C)C', 'QCH2A', 'C=O', 'A!CH2!A', 'NA(A)A', 'C-O', 'C-N', 'O>1', 'CH3', 'N', 'Aromatic', '6M Ring', 'O', 'Ring', 'Fragments']\n"
     ]
    }
   ],
   "source": [
    "file = open(\"chemical_features.txt\", 'r')\n",
    "feature_names = [x.strip() for x in\n",
    "                 file.readlines()]\n",
    "print(feature_names)\n",
    "file.close()"
   ]
  },
  {
   "cell_type": "markdown",
   "id": "724ca4bc-b391-4c81-836d-7ca4a0c02eea",
   "metadata": {},
   "source": [
    "# ROC Curve "
   ]
  },
  {
   "cell_type": "code",
   "execution_count": 315,
   "id": "fa38c34c-bb63-4c98-938f-f0664b5e0448",
   "metadata": {},
   "outputs": [],
   "source": [
    "from sklearn.metrics import roc_curve, roc_auc_score"
   ]
  },
  {
   "cell_type": "code",
   "execution_count": 316,
   "id": "4924db6f-a797-4276-804f-b8296128f18c",
   "metadata": {},
   "outputs": [
    {
     "name": "stdout",
     "output_type": "stream",
     "text": [
      "0.7517331568664525\n"
     ]
    }
   ],
   "source": [
    "#Categorical Naive Bayes \n",
    "cnb1 = CategoricalNB()\n",
    "cnb1.fit(X_train1, y_train1)\n",
    "cnb_y_pred1 = cnb1.predict(X_test1)\n",
    "cnb_y_proba1 = cnb1.predict_proba(X_test1)[:,1]\n",
    "\n",
    "print(balanced_accuracy_score(y_test1, cnb_y_pred1))"
   ]
  },
  {
   "cell_type": "code",
   "execution_count": 317,
   "id": "25bb2e97-eced-450d-9460-12a45ddb19da",
   "metadata": {},
   "outputs": [
    {
     "name": "stdout",
     "output_type": "stream",
     "text": [
      "0.713633257812781\n"
     ]
    }
   ],
   "source": [
    "#Categorical Naive Bayes \n",
    "cnb2 = CategoricalNB()\n",
    "cnb2.fit(X_train2, y_train2)\n",
    "cnb_y_pred2 = cnb2.predict(X_test2)\n",
    "cnb_y_proba2 = cnb2.predict_proba(X_test2)[:,1]\n",
    "\n",
    "print(balanced_accuracy_score(y_test2, cnb_y_pred2))"
   ]
  },
  {
   "cell_type": "code",
   "execution_count": 318,
   "id": "cdd06f2f-307d-4a9c-b84d-e1d6342a715e",
   "metadata": {},
   "outputs": [
    {
     "name": "stdout",
     "output_type": "stream",
     "text": [
      "0.6560105363984674\n"
     ]
    }
   ],
   "source": [
    "#Categorical Naive Bayes \n",
    "cnb3 = CategoricalNB()\n",
    "cnb3.fit(X_train3, y_train3)\n",
    "cnb_y_pred3 = cnb3.predict(X_test3)\n",
    "cnb_y_proba3 = cnb3.predict_proba(X_test3)[:,1]\n",
    "\n",
    "print(balanced_accuracy_score(y_test3, cnb_y_pred3))"
   ]
  },
  {
   "cell_type": "code",
   "execution_count": 319,
   "id": "1b1cb7ce-3f6c-4f2f-8562-b299d57cd180",
   "metadata": {},
   "outputs": [
    {
     "name": "stdout",
     "output_type": "stream",
     "text": [
      "0.6346275252525253\n"
     ]
    }
   ],
   "source": [
    "#Random Forest Classifier\n",
    "rf4 = RandomForestClassifier()\n",
    "rf4.fit(X_train4, y_train4)\n",
    "rf_y_pred4 = rf4.predict(X_test4)\n",
    "rf_y_proba4 = rf4.predict_proba(X_test4)[:,1]\n",
    "\n",
    "print(balanced_accuracy_score(y_test4, rf_y_pred4))"
   ]
  },
  {
   "cell_type": "code",
   "execution_count": 320,
   "id": "87e70962-f820-4605-a5dd-b957bfd47ad7",
   "metadata": {},
   "outputs": [
    {
     "name": "stdout",
     "output_type": "stream",
     "text": [
      "0.7874442755393103\n"
     ]
    }
   ],
   "source": [
    "#XGBoost \n",
    "model_XGB = XGBClassifier(n_estimators=150,max_depth=20)\n",
    "model.fit(X_train5, y_train5)\n",
    "XGB_y_pred = model.predict(X_test5)\n",
    "XGB_y_proba = model.predict_proba(X_test5)[:,1]\n",
    "\n",
    "print(balanced_accuracy_score(y_test5, XGB_y_pred))"
   ]
  },
  {
   "cell_type": "code",
   "execution_count": 321,
   "id": "f9291ec3-25c1-49d5-84a0-221c8f4ebe70",
   "metadata": {},
   "outputs": [],
   "source": [
    "roc_list = []\n",
    "\n",
    "cnb1_roc_fpr, cnb1_roc_tpr, _ = roc_curve(y_test1, cnb_y_proba1)\n",
    "cnb1_roc_auc = roc_auc_score(y_test1, cnb_y_proba1)\n",
    "cnb1_label = 'EDC vs. ER\\n(AUC=' + str(round(cnb1_roc_auc, 2)) + ')'\n",
    "\n",
    "cnb2_roc_fpr, cnb2_roc_tpr, _ = roc_curve(y_test2, cnb_y_proba2)\n",
    "cnb2_roc_auc = roc_auc_score(y_test2, cnb_y_proba2)\n",
    "cnb2_label = 'HS vs. K\\n(AUC=' + str(round(cnb2_roc_auc, 2)) + ')'\n",
    "\n",
    "cnb3_roc_fpr, cnb3_roc_tpr, _ = roc_curve(y_test3, cnb_y_proba3)\n",
    "cnb3_roc_auc = roc_auc_score(y_test3, cnb_y_proba3)\n",
    "cnb3_label = 'HS vs. CC\\n(AUC=' + str(round(cnb3_roc_auc, 2)) + ')'\n",
    "\n",
    "rf4_roc_fpr, rf4_roc_tpr, _ = roc_curve(y_test4, rf_y_proba4)\n",
    "rf4_roc_auc = roc_auc_score(y_test4, rf_y_proba4)\n",
    "rf4_label = 'FCC vs. L\\n(AUC=' + str(round(rf4_roc_auc, 2)) + ')'\n",
    " \n",
    "XGB_roc_fpr, XGB_roc_tpr, _ = roc_curve(y_test5, XGB_y_proba)\n",
    "XGB_roc_auc = roc_auc_score(y_test5, XGB_y_proba)\n",
    "XGB_label = 'SEI vs. L\\n(AUC=' + str(round(XGB_roc_auc, 2)) + ')'\n",
    "\n",
    "\n",
    "roc_list.append((cnb1_roc_fpr, cnb1_roc_tpr, cnb1_label))\n",
    "roc_list.append((cnb2_roc_fpr, cnb2_roc_tpr, cnb2_label))\n",
    "roc_list.append((cnb3_roc_fpr, cnb3_roc_tpr, cnb3_label))\n",
    "roc_list.append((rf4_roc_fpr, rf4_roc_tpr, rf4_label))\n",
    "roc_list.append((XGB_roc_fpr,XGB_roc_tpr,XGB_label))"
   ]
  },
  {
   "cell_type": "code",
   "execution_count": 322,
   "id": "6497fc33-b296-48e9-b2a4-416382af4406",
   "metadata": {},
   "outputs": [
    {
     "data": {
      "image/png": "[encoded data removed]",
      "text/plain": [
       "<Figure size 600x600 with 1 Axes>"
      ]
     },
     "metadata": {},
     "output_type": "display_data"
    }
   ],
   "source": [
    "# Make plot\n",
    "\n",
    "plot_color = [plt.cm.Set1(0), plt.cm.Set1(1), plt.cm.Set1(2), plt.cm.Set1(3), plt.cm.Set1(4)]\n",
    "\n",
    "plt.figure(figsize=(6,6))\n",
    "\n",
    "plt.rc('font', size=20)\n",
    "plt.rc('axes', titlesize=20)\n",
    "plt.rc('axes', labelsize=20)\n",
    "plt.rc('xtick', labelsize=15)\n",
    "plt.rc('ytick', labelsize=15)\n",
    "plt.rc('legend', fontsize=15)\n",
    "\n",
    "# Here's where we plot the actual curves\n",
    "for nrl in range(0, len(roc_list)):\n",
    "    rl = roc_list[nrl]\n",
    "    rl_fpr, rl_tpr, rl_label = rl\n",
    "    if nrl < len(plot_color):\n",
    "        plt.plot(rl_fpr, rl_tpr, lw=2, label=rl_label, color=plot_color[nrl])\n",
    "\n",
    "# Plot the dashed line\n",
    "plt.plot([0,1], [0,1], color='grey', lw=1, linestyle='--')\n",
    "\n",
    "# Add other graphical elements\n",
    "plt.xlim([-0.01, 1])\n",
    "plt.ylim([0, 1.01])\n",
    "plt.xlabel('False positive rate')\n",
    "plt.ylabel('True positive rate')\n",
    "plt.title('Comparison: 5 toxicity prediction models')\n",
    "plt.legend(loc='lower right', frameon = False)\n",
    "plt.tight_layout()\n",
    "plt.savefig('./roc_plot.pdf')"
   ]
  },
  {
   "cell_type": "code",
   "execution_count": null,
   "id": "12fcba1c-b7dc-4ef3-b7ef-db85cfef99af",
   "metadata": {},
   "outputs": [],
   "source": []
  }
 ],
 "metadata": {
  "kernelspec": {
   "display_name": "Python 3 (ipykernel)",
   "language": "python",
   "name": "python3"
  },
  "language_info": {
   "codemirror_mode": {
    "name": "ipython",
    "version": 3
   },
   "file_extension": ".py",
   "mimetype": "text/x-python",
   "name": "python",
   "nbconvert_exporter": "python",
   "pygments_lexer": "ipython3",
   "version": "3.8.17"
  }
 },
 "nbformat": 4,
 "nbformat_minor": 5
}
